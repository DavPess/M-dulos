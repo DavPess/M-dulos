{
  "nbformat": 4,
  "nbformat_minor": 0,
  "metadata": {
    "colab": {
      "provenance": [],
      "authorship_tag": "ABX9TyPFt6jjshtaGT9VUguPMEJO",
      "include_colab_link": true
    },
    "kernelspec": {
      "name": "python3",
      "display_name": "Python 3"
    },
    "language_info": {
      "name": "python"
    }
  },
  "cells": [
    {
      "cell_type": "markdown",
      "metadata": {
        "id": "view-in-github",
        "colab_type": "text"
      },
      "source": [
        "<a href=\"https://colab.research.google.com/github/DavPess/M-dulos/blob/main/ExManipulandoTexto.ipynb\" target=\"_parent\"><img src=\"https://colab.research.google.com/assets/colab-badge.svg\" alt=\"Open In Colab\"/></a>"
      ]
    },
    {
      "cell_type": "code",
      "execution_count": null,
      "metadata": {
        "id": "B0KbPNlIs4YB"
      },
      "outputs": [],
      "source": [
        "\n",
        "#022 Crie um programa que leia o nome completo da pessoa e mostre:\n",
        "  #O nome com todas as letras maiúsculas\n",
        "  #O nome com todas minúsculas\n",
        "  #Quantas letras ao todo(sem considerar os espaços)\n",
        "  #Quantas letras tem o primeiro nome.\n",
        "\n",
        "\n",
        "\n",
        "nome = str(input(\"Digite seu nome completo: \"))\n",
        "dividido = nome.split()\n",
        "espaco = nome.replace(\" \", \"\")\n",
        "print(nome.upper())\n",
        "print(nome.lower())\n",
        "print(len(nome))\n",
        "print(len(dividido[0]))\n",
        "print(len(espaco))\n"
      ]
    },
    {
      "cell_type": "code",
      "source": [
        "#023 Faça um programa que leia um numero de 0 a 9999 e mostre na tela cada um dos digitos e separados\n",
        "  #Unidade:\n",
        "  #Dezena\n",
        "  #Centena\n",
        "  #Milhar\n",
        "num = int(input(\"Digite um número: \"))\n",
        "u = num // 1 % 10\n",
        "d = num // 10 % 10\n",
        "c = num // 100 % 10\n",
        "m = num // 1000 % 10\n",
        "print(\"Analisando o numero {}\".format(num))\n",
        "print(\"Unidade: {}\".format(u))\n",
        "print(\"Dezena: {}\".format(d))\n",
        "print(\"Centena: {}\".format(c))\n",
        "print(\"Milhar: {}\".format(m))"
      ],
      "metadata": {
        "id": "-NsBfpsmPben"
      },
      "execution_count": null,
      "outputs": []
    },
    {
      "cell_type": "code",
      "source": [
        "#024 Crie um programa que leia o nome de uma cidade e diga se ela começa com a palavra \"SANTO\"\n",
        "nome = input(\"Digite o nome da cidade: \")\n",
        "cidade = nome.title().split()\n",
        "print(\"Possui SANTO?\")\n",
        "print('Santo' in cidade[0])"
      ],
      "metadata": {
        "id": "62NFiQcgSQdf",
        "colab": {
          "base_uri": "https://localhost:8080/"
        },
        "outputId": "20cb31bb-f473-49b3-a9d3-49e3f1fdd3b7"
      },
      "execution_count": 14,
      "outputs": [
        {
          "output_type": "stream",
          "name": "stdout",
          "text": [
            "Digite o nome da cidade:       santo\n",
            "Possui SANTO?\n",
            "True\n"
          ]
        }
      ]
    },
    {
      "cell_type": "code",
      "source": [
        "#025 Crie um programa que leia o nome de uma pessoa e diga se ela tem \"SILVA\" no nome\n",
        "nome = input(\"Digite o nome completo: \")\n",
        "maiusculo = nome.title()\n",
        "print(\"Possui Silva?\")\n",
        "print('Silva' in maiusculo)"
      ],
      "metadata": {
        "id": "9tbW8S7HVdqR"
      },
      "execution_count": null,
      "outputs": []
    },
    {
      "cell_type": "code",
      "source": [
        "#026 Faça um programa que leia a frase pelo teclado e mostre: \n",
        "  #Quantas vezes aparece a letra \"A\"\n",
        "  #Em que posição ela aparece a primeira\n",
        "  #Em que posição aparece a última\n",
        "\n",
        "nome = str(input(\"Digite algo: \")).strip()\n",
        "m = nome.upper()\n",
        "print(m.count('A'))\n",
        "print(\"A primeira letra A apareceu na posição {}\".format(m.find('A') + 1))\n",
        "print(\"A última letra A apareceu na posição {}\".format(m.rfind(\"A\")+1))\n",
        "\n"
      ],
      "metadata": {
        "id": "COlR2fiUX9oB",
        "colab": {
          "base_uri": "https://localhost:8080/"
        },
        "outputId": "36e07cb1-851d-43cb-f823-4aecb4a55967"
      },
      "execution_count": 24,
      "outputs": [
        {
          "output_type": "stream",
          "name": "stdout",
          "text": [
            "Digite algo: abraham\n",
            "3\n",
            "A primeira letra A apareceu na posição 1\n",
            "A última letra A apareceu na posição 6\n"
          ]
        }
      ]
    },
    {
      "cell_type": "code",
      "source": [
        "#027 Faça um programa que leia o primeiro e o ultimo nome de uma pessoa separadamente\n",
        "nome = str(input(\"Digite seu nome completo: \")).strip()\n",
        "n = nome.title().split()\n",
        "print(\"O primeiro nome é {}\".format(n[0]))\n",
        "print(\"Seu último nome é {}\".format(n[len(n)-1]))"
      ],
      "metadata": {
        "id": "7nqL1Ce4cKXV"
      },
      "execution_count": null,
      "outputs": []
    }
  ]
}