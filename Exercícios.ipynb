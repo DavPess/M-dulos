{
  "nbformat": 4,
  "nbformat_minor": 0,
  "metadata": {
    "colab": {
      "provenance": [],
      "authorship_tag": "ABX9TyMEe+WPP2EFvtulgc1aWvg8",
      "include_colab_link": true
    },
    "kernelspec": {
      "name": "python3",
      "display_name": "Python 3"
    },
    "language_info": {
      "name": "python"
    }
  },
  "cells": [
    {
      "cell_type": "markdown",
      "metadata": {
        "id": "view-in-github",
        "colab_type": "text"
      },
      "source": [
        "<a href=\"https://colab.research.google.com/github/DavPess/M-dulos/blob/main/Exerc%C3%ADcios.ipynb\" target=\"_parent\"><img src=\"https://colab.research.google.com/assets/colab-badge.svg\" alt=\"Open In Colab\"/></a>"
      ]
    },
    {
      "cell_type": "code",
      "source": [
        "#016 Crie um programa que leia um número real qualquer pelo teclado e mostre a sua porção inteira\n",
        "import math \n",
        "num = float(input(\"Digite um número: \"))\n",
        "valor = math.trunc(num)\n",
        "print(\"O valor do {} inteiro é: {}\".format(num,valor))"
      ],
      "metadata": {
        "colab": {
          "base_uri": "https://localhost:8080/"
        },
        "id": "JRYxYQ5zH0Ik",
        "outputId": "9831e35d-4b82-4ab2-9008-6c8c61ab7704"
      },
      "execution_count": 1,
      "outputs": [
        {
          "output_type": "stream",
          "name": "stdout",
          "text": [
            "Digite um número: 6.127\n",
            "O valor do 6.127 inteiro é: 6\n"
          ]
        }
      ]
    },
    {
      "cell_type": "code",
      "source": [
        "#017 Faça um programa que leia o comprimento do cateto oposto e do cateto adjacente de um triângulo retângulo, calcule e mostre o comprimento da hipotenusa\n",
        "import math\n",
        "cateto_oposto = float(input(\"Digite um número: \"))\n",
        "cateto_adjacente = float(input(\"Digite um número: \"))\n",
        "resultado = math.hypot(cateto_oposto, cateto_adjacente)\n",
        "print(\"O valor é de {:.2f1}\".format(resultado))\n"
      ],
      "metadata": {
        "colab": {
          "base_uri": "https://localhost:8080/"
        },
        "id": "c1Y_LoldIn9n",
        "outputId": "38a0aae0-28de-43af-ee95-5ac5869a51da"
      },
      "execution_count": 6,
      "outputs": [
        {
          "output_type": "stream",
          "name": "stdout",
          "text": [
            "Digite um número: 10\n",
            "Digite um número: 10\n",
            "O valor é de 14.14\n"
          ]
        }
      ]
    },
    {
      "cell_type": "code",
      "source": [
        "#018 faça um programa que leia um ângulo qualquer e mostre o valor do seno, cosseno e tangente desse ângulo\n",
        "from math import acos, asin, atan\n",
        "angulo = int(input(\"Digite um número \"))\n",
        "resultado = acos(angulo), asin(angulo), atan(angulo)\n",
        "print(\"O resultado é de: {}\".format(resultado))"
      ],
      "metadata": {
        "id": "EiBgZSdSLXBw"
      },
      "execution_count": null,
      "outputs": []
    },
    {
      "cell_type": "code",
      "source": [
        "#019 um professor que sortear um dos seus quatro alunos para apagar o quadro. Faça um programa que ajude ele, lendo o nome deles e escrevendo o do escolhido\n",
        "from random import choice\n",
        "aluno1 = input(\"Digite um nome: \")\n",
        "aluno2 = input(\"Digite um nome: \")\n",
        "aluno3 = input(\"Digite um nome: \")\n",
        "aluno4 = input(\"Digite um nome: \")\n",
        "nome = choice(aluno1, aluno2, aluno3, aluno4d)\n",
        "print(\"O escolhido foi: {}\".format(nome))"
      ],
      "metadata": {
        "id": "GiKJFKAoOSmj"
      },
      "execution_count": null,
      "outputs": []
    },
    {
      "cell_type": "code",
      "source": [
        "#020 O mesmo professor do desafio anterior quer sortear a ordem de apresentação de trabalhos dos alunos. Faça um programa q  leia o nome dos quatros alunos e mostre a ordem sorteada\n"
      ],
      "metadata": {
        "id": "JkEdOBzWQlIY"
      },
      "execution_count": null,
      "outputs": []
    },
    {
      "cell_type": "code",
      "source": [
        "#021 Faça um programa em Python que abra e reproduza o áudio de um arquivo MP3\n"
      ],
      "metadata": {
        "id": "TmQw9Er4UxLt"
      },
      "execution_count": null,
      "outputs": []
    }
  ]
}