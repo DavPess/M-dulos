{
  "nbformat": 4,
  "nbformat_minor": 0,
  "metadata": {
    "colab": {
      "provenance": [],
      "authorship_tag": "ABX9TyMbRHvnv0FrRKiCKsvMzSzv",
      "include_colab_link": true
    },
    "kernelspec": {
      "name": "python3",
      "display_name": "Python 3"
    },
    "language_info": {
      "name": "python"
    }
  },
  "cells": [
    {
      "cell_type": "markdown",
      "metadata": {
        "id": "view-in-github",
        "colab_type": "text"
      },
      "source": [
        "<a href=\"https://colab.research.google.com/github/DavPess/M-dulos/blob/main/M%C3%B3dulos.ipynb\" target=\"_parent\"><img src=\"https://colab.research.google.com/assets/colab-badge.svg\" alt=\"Open In Colab\"/></a>"
      ]
    },
    {
      "cell_type": "code",
      "execution_count": null,
      "metadata": {
        "id": "nblb2JvX3dcU"
      },
      "outputs": [],
      "source": [
        " #Há duas formas básicas de importar dentro do pythom;\n",
        "          #import bebidas (importa toda a biblioteca )\n",
        "          #fromdoceimport(nome do doce). -importa apenas o que foi solicitado.\n",
        "  #math = matematica\n",
        "    #ceil = arred pra cima\n",
        "    #floor = arred pra baixo\n",
        "    #trunc = elimina da vírgula pra frente\n",
        "    #pow = power (potência)\n",
        "    #sqrt = raiz quadrada\n",
        "    #factorial = fatorial\n",
        "  #A partir do momento que utiliza o comando \"import math\", utiliza-se todas as funcionalidades dentro da biblioteca."
      ]
    },
    {
      "cell_type": "code",
      "source": [
        "from math import sqrt, ceil\n",
        "num = int(input(\"Digite um número: \"))\n",
        "raiz = sqrt(num) #se importar o conteúdo especifico, n precisa criar uma variavel com o nome da biblioteca \n",
        "print(\"A raiz de {} é igual a {}\".format(num, ceil(raiz)))\n"
      ],
      "metadata": {
        "id": "NFgzqJhw8qAj"
      },
      "execution_count": null,
      "outputs": []
    },
    {
      "cell_type": "code",
      "source": [
        "import random\n",
        "num = random.randint(1, 10)\n",
        "print(num)\n",
        "#random.random(num até 1) #random.randint(1, 10) pode escolher o inicio e o final do numero"
      ],
      "metadata": {
        "colab": {
          "base_uri": "https://localhost:8080/"
        },
        "id": "qIt-HSOUBS2C",
        "outputId": "1797995d-c4a8-4213-c987-682a8f84e8d9"
      },
      "execution_count": 27,
      "outputs": [
        {
          "output_type": "stream",
          "name": "stdout",
          "text": [
            "9\n"
          ]
        }
      ]
    },
    {
      "cell_type": "code",
      "source": [
        "#import emoji\n",
        "#print(emoji.emojize(\"Olá, mundo :sunglasses:\", use_aliases=True))"
      ],
      "metadata": {
        "id": "9F2_gTE5ChYu"
      },
      "execution_count": null,
      "outputs": []
    }
  ]
}