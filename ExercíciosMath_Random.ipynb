{
  "nbformat": 4,
  "nbformat_minor": 0,
  "metadata": {
    "colab": {
      "provenance": [],
      "authorship_tag": "ABX9TyPIvAU7HyxDMkuE7gypbAz6",
      "include_colab_link": true
    },
    "kernelspec": {
      "name": "python3",
      "display_name": "Python 3"
    },
    "language_info": {
      "name": "python"
    }
  },
  "cells": [
    {
      "cell_type": "markdown",
      "metadata": {
        "id": "view-in-github",
        "colab_type": "text"
      },
      "source": [
        "<a href=\"https://colab.research.google.com/github/DavPess/M-dulos/blob/main/Exerc%C3%ADciosMath_Random.ipynb\" target=\"_parent\"><img src=\"https://colab.research.google.com/assets/colab-badge.svg\" alt=\"Open In Colab\"/></a>"
      ]
    },
    {
      "cell_type": "code",
      "source": [
        "#016 Crie um programa que leia um número real qualquer pelo teclado e mostre a sua porção inteira\n",
        "import math \n",
        "num = float(input(\"Digite um número: \"))\n",
        "valor = math.trunc(num)\n",
        "print(\"O valor do {} inteiro é: {}\".format(num,valor))"
      ],
      "metadata": {
        "colab": {
          "base_uri": "https://localhost:8080/"
        },
        "id": "JRYxYQ5zH0Ik",
        "outputId": "9831e35d-4b82-4ab2-9008-6c8c61ab7704"
      },
      "execution_count": 1,
      "outputs": [
        {
          "output_type": "stream",
          "name": "stdout",
          "text": [
            "Digite um número: 6.127\n",
            "O valor do 6.127 inteiro é: 6\n"
          ]
        }
      ]
    },
    {
      "cell_type": "code",
      "source": [
        "#017 Faça um programa que leia o comprimento do cateto oposto e do cateto adjacente de um triângulo retângulo, calcule e mostre o comprimento da hipotenusa\n",
        "import math\n",
        "cateto_oposto = float(input(\"Digite um número: \"))\n",
        "cateto_adjacente = float(input(\"Digite um número: \"))\n",
        "resultado = math.hypot(cateto_oposto, cateto_adjacente)\n",
        "print(\"O valor é de {:.2f1}\".format(resultado))\n"
      ],
      "metadata": {
        "colab": {
          "base_uri": "https://localhost:8080/"
        },
        "id": "c1Y_LoldIn9n",
        "outputId": "38a0aae0-28de-43af-ee95-5ac5869a51da"
      },
      "execution_count": 6,
      "outputs": [
        {
          "output_type": "stream",
          "name": "stdout",
          "text": [
            "Digite um número: 10\n",
            "Digite um número: 10\n",
            "O valor é de 14.14\n"
          ]
        }
      ]
    },
    {
      "cell_type": "code",
      "source": [
        "#018 faça um programa que leia um ângulo qualquer e mostre o valor do seno, cosseno e tangente desse ângulo\n",
        "import math\n",
        "angulo = float(input(\"Digite o valor do ângulo: \"))\n",
        "seno = math.sin(math.radians(angulo))\n",
        "cosseno = math.cos(math.radians(angulo))\n",
        "tangente = math.tan(math.radians(angulo))\n",
        "print(\"o angulo {} \\nseno: {:.2f} \\no cosseno: {:.2f} \\ne a tangente: {:.2f}\".format(angulo, seno, cosseno, tangente))"
      ],
      "metadata": {
        "colab": {
          "base_uri": "https://localhost:8080/"
        },
        "id": "EiBgZSdSLXBw",
        "outputId": "98d63c69-f171-42f7-9c08-295855c668c9"
      },
      "execution_count": 45,
      "outputs": [
        {
          "output_type": "stream",
          "name": "stdout",
          "text": [
            "Digite o valor do ângulo: 10\n",
            "o angulo 10.0 \n",
            "seno: 0.17 \n",
            "o cosseno: 0.98 \n",
            "e a tangente: 0.18\n"
          ]
        }
      ]
    },
    {
      "cell_type": "code",
      "source": [
        "\n",
        "#019 um professor que sortear um dos seus quatro alunos para apagar o quadro. Faça um programa que ajude ele, lendo o nome deles e escrevendo o do escolhido\n",
        "import random \n",
        "aluno1 = \"Digite um nome: \"\n",
        "aluno2 = \"Digite um nome: \"\n",
        "aluno3 =\"Digite um nome: \"\n",
        "aluno4 = \"Digite um nome: \"\n",
        "a1 = input(aluno1)\n",
        "a2 = input(aluno2)\n",
        "a3 = input(aluno3)\n",
        "a4 = input(aluno4)\n",
        "lista = a1, a2, a3, a4\n",
        "print(\"O aluno sorteado é: {}\".format(random.choice(lista)))\n",
        "\n"
      ],
      "metadata": {
        "id": "GiKJFKAoOSmj"
      },
      "execution_count": null,
      "outputs": []
    },
    {
      "cell_type": "code",
      "source": [
        "#020 O mesmo professor do desafio anterior quer sortear a ordem de apresentação de trabalhos dos alunos. Faça um programa q  leia o nome dos quatros alunos e mostre a ordem sorteada\n",
        "import random\n",
        "aluno1 = \"Aluno 1 \"\n",
        "aluno2 = \"Aluno 2 \"\n",
        "aluno3 = \"Aluno 3 \"\n",
        "aluno4 = \"Aluno 4 \"\n",
        "a1 = input(aluno1)\n",
        "a2 = input(aluno2)\n",
        "a3 = input(aluno3)\n",
        "a4 = input(aluno4)\n",
        "lista1 = a1, a2, a3, a4\n",
        "lista2 = a1, a2, a3, a4\n",
        "lista3 = a1, a2, a3, a4\n",
        "lista4 = a1, a2, a3, a4\n",
        "print(\"1° aluno {} \".format(random.choice(lista1)))\n",
        "print(\"2° aluno {}\".format(random.choice(lista2)))\n",
        "print(\"3° aluno {}\".format(random.choice(lista3)))\n",
        "print(\"4° aluno {}\".format(random.choice(lista4)))"
      ],
      "metadata": {
        "id": "JkEdOBzWQlIY"
      },
      "execution_count": null,
      "outputs": []
    },
    {
      "cell_type": "code",
      "source": [
        "#Outra forma de fazer sorteio\n",
        "import random\n",
        "aluno1 = \"Aluno 1 \"\n",
        "aluno2 = \"Aluno 2 \"\n",
        "aluno3 = \"Aluno 3 \"\n",
        "aluno4 = \"Aluno 4 \"\n",
        "a1 = input(aluno1)\n",
        "a2 = input(aluno2)\n",
        "a3 = input(aluno3)\n",
        "a4 = input(aluno4)\n",
        "lista1 = a1, a2, a3, a4\n",
        "print(\"1° aluno {} \".format(random.choice(lista1)))\n",
        "print(\"2° aluno {}\".format(random.choice(lista1)))\n",
        "print(\"3° aluno {}\".format(random.choice(lista1)))\n",
        "print(\"4° aluno {}\".format(random.choice(lista1)))"
      ],
      "metadata": {
        "id": "rSyom85KduWQ"
      },
      "execution_count": null,
      "outputs": []
    },
    {
      "cell_type": "code",
      "source": [
        "#021 Faça um programa em Python que abra e reproduza o áudio de um arquivo MP3\n",
        "import pygame \n",
        "pygame.init()\n",
        "pygame.mixer.music.load(\"colocar aqui o nome do arquivo\")\n",
        "pygame.mixer.music.play()\n",
        "pygame.event.wait()\n",
        "\n"
      ],
      "metadata": {
        "id": "TmQw9Er4UxLt"
      },
      "execution_count": null,
      "outputs": []
    }
  ]
}