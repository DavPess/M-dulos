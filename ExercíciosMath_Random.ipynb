{
  "nbformat": 4,
  "nbformat_minor": 0,
  "metadata": {
    "colab": {
      "provenance": [],
      "authorship_tag": "ABX9TyMS2ZEhzQ/LG0Cgrd6g8Fwx",
      "include_colab_link": true
    },
    "kernelspec": {
      "name": "python3",
      "display_name": "Python 3"
    },
    "language_info": {
      "name": "python"
    }
  },
  "cells": [
    {
      "cell_type": "markdown",
      "metadata": {
        "id": "view-in-github",
        "colab_type": "text"
      },
      "source": [
        "<a href=\"https://colab.research.google.com/github/DavPess/M-dulos/blob/main/Exerc%C3%ADciosMath_Random.ipynb\" target=\"_parent\"><img src=\"https://colab.research.google.com/assets/colab-badge.svg\" alt=\"Open In Colab\"/></a>"
      ]
    },
    {
      "cell_type": "code",
      "source": [
        "#016 Crie um programa que leia um número real qualquer pelo teclado e mostre a sua porção inteira\n",
        "import math \n",
        "num = float(input(\"Digite um número: \"))\n",
        "valor = math.trunc(num)\n",
        "print(\"O valor do {} inteiro é: {}\".format(num,valor))"
      ],
      "metadata": {
        "id": "JRYxYQ5zH0Ik"
      },
      "execution_count": null,
      "outputs": []
    },
    {
      "cell_type": "code",
      "source": [
        "#017 Faça um programa que leia o comprimento do cateto oposto e do cateto adjacente de um triângulo retângulo, calcule e mostre o comprimento da hipotenusa\n",
        "import math\n",
        "cateto_oposto = float(input(\"Comprimento do cateto oposto: \"))\n",
        "cateto_adjacente = float(input(\"Comprimento do cateto adjacente: \"))\n",
        "hipotenusa = math.hypot(cateto_oposto, cateto_adjacente)\n",
        "print(\"A hipotenusa vai medir: {:.2f}\".format(hipotenusa))\n"
      ],
      "metadata": {
        "id": "c1Y_LoldIn9n"
      },
      "execution_count": null,
      "outputs": []
    },
    {
      "cell_type": "code",
      "source": [
        "#018 faça um programa que leia um ângulo qualquer e mostre o valor do seno, cosseno e tangente desse ângulo\n",
        "#Para calcular o angulo, deve converter o valor para radianos.\n",
        "import math\n",
        "angulo = float(input(\"Digite o valor do ângulo: \"))\n",
        "seno = math.sin(math.radians(angulo))\n",
        "cosseno = math.cos(math.radians(angulo))\n",
        "tangente = math.tan(math.radians(angulo))\n",
        "print(\"o angulo {:.0f}° \\nseno: {:.2f} \\no cosseno: {:.2f} \\ne a tangente: {:.2f}\".format(angulo, seno, cosseno, tangente))"
      ],
      "metadata": {
        "id": "EiBgZSdSLXBw"
      },
      "execution_count": null,
      "outputs": []
    },
    {
      "cell_type": "code",
      "source": [
        "\n",
        "#019 um professor que sortear um dos seus quatro alunos para apagar o quadro. Faça um programa que ajude ele, lendo o nome deles e escrevendo o do escolhido\n",
        "import random \n",
        "aluno1 = \"Digite um nome: \"\n",
        "aluno2 = \"Digite um nome: \"\n",
        "aluno3 = \"Digite um nome: \"\n",
        "aluno4 = \"Digite um nome: \"\n",
        "a1 = input(aluno1)\n",
        "a2 = input(aluno2)\n",
        "a3 = input(aluno3)\n",
        "a4 = input(aluno4)\n",
        "lista = a1, a2, a3, a4\n",
        "print(\"O aluno sorteado é: {}\".format(random.choice(lista)))\n",
        "\n",
        "#No python, uma lista fica dentro de []"
      ],
      "metadata": {
        "id": "GiKJFKAoOSmj"
      },
      "execution_count": null,
      "outputs": []
    },
    {
      "cell_type": "code",
      "source": [
        "#Resolução Guanabara\n",
        "a1 = str(input(\"Primeiro aluno: \"))\n",
        "a2 = str(input(\"Segundo aluno: \"))\n",
        "a3 = str(input(\"Terceiro aluno: \"))\n",
        "a4 = str(input(\"Quarto aluno: \"))\n",
        "lista = [a1, a2, a3, a4]\n",
        "escolhido = random.choice(lista)\n",
        "print(\"O escolhido foi: {}\".format(escolhido))"
      ],
      "metadata": {
        "id": "XdzhXqGQHVyF"
      },
      "execution_count": null,
      "outputs": []
    },
    {
      "cell_type": "code",
      "source": [
        "#020 O mesmo professor do desafio anterior quer sortear a ordem de apresentação de trabalhos dos alunos. Faça um programa q  leia o nome dos quatros alunos e mostre a ordem sorteada\n",
        "import random\n",
        "aluno1 = \"Aluno 1 \"\n",
        "aluno2 = \"Aluno 2 \"\n",
        "aluno3 = \"Aluno 3 \"\n",
        "aluno4 = \"Aluno 4 \"\n",
        "a1 = input(aluno1)\n",
        "a2 = input(aluno2)\n",
        "a3 = input(aluno3)\n",
        "a4 = input(aluno4)\n",
        "lista1 = a1, a2, a3, a4\n",
        "lista2 = a1, a2, a3, a4\n",
        "lista3 = a1, a2, a3, a4\n",
        "lista4 = a1, a2, a3, a4\n",
        "print(\"1° aluno {} \".format(random.choice(lista1)))\n",
        "print(\"2° aluno {}\".format(random.choice(lista2)))\n",
        "print(\"3° aluno {}\".format(random.choice(lista3)))\n",
        "print(\"4° aluno {}\".format(random.choice(lista4)))"
      ],
      "metadata": {
        "id": "JkEdOBzWQlIY"
      },
      "execution_count": null,
      "outputs": []
    },
    {
      "cell_type": "code",
      "source": [
        "#Outra forma de fazer sorteio\n",
        "import random\n",
        "aluno1 = \"Aluno 1 \"\n",
        "aluno2 = \"Aluno 2 \"\n",
        "aluno3 = \"Aluno 3 \"\n",
        "aluno4 = \"Aluno 4 \"\n",
        "a1 = input(aluno1)\n",
        "a2 = input(aluno2)\n",
        "a3 = input(aluno3)\n",
        "a4 = input(aluno4)\n",
        "lista1 = a1, a2, a3, a4\n",
        "print(\"1° aluno {} \".format(random.choice(lista1)))\n",
        "print(\"2° aluno {}\".format(random.choice(lista1)))\n",
        "print(\"3° aluno {}\".format(random.choice(lista1)))\n",
        "print(\"4° aluno {}\".format(random.choice(lista1)))"
      ],
      "metadata": {
        "id": "rSyom85KduWQ"
      },
      "execution_count": null,
      "outputs": []
    },
    {
      "cell_type": "code",
      "source": [
        "#Forma de resolução sorteio Guanabara\n",
        "import random\n",
        "a1 = str(input(\"Primeiro aluno: \"))\n",
        "a2 = str(input(\"Segundo aluno: \"))\n",
        "a3 = str(input(\"Terceiro aluno: \"))\n",
        "a4 = str(input(\"Quarto aluno: \"))\n",
        "lista = [a1, a2, a3, a4]\n",
        "#shuffle = embaralhar.\n",
        "random.shuffle(lista)\n",
        "print(\"A ordem de apresentação será: {}\".format(lista))"
      ],
      "metadata": {
        "colab": {
          "base_uri": "https://localhost:8080/"
        },
        "id": "DzVYYXlMM0Ak",
        "outputId": "3f03bc07-206e-4c07-f1f2-b94c25036255"
      },
      "execution_count": null,
      "outputs": [
        {
          "output_type": "stream",
          "name": "stdout",
          "text": [
            "Primeiro aluno: Maria\n",
            "Segundo aluno: Pedro\n",
            "Terceiro aluno: Felipe\n",
            "Quarto aluno: Joana\n",
            "A ordem de apresentação será: ['Felipe', 'Maria', 'Joana', 'Pedro']\n"
          ]
        }
      ]
    },
    {
      "cell_type": "code",
      "source": [
        "#021 Faça um programa em Python que abra e reproduza o áudio de um arquivo MP3\n",
        "import pygame \n",
        "pygame.init()\n",
        "pygame.mixer.music.load(\"colocar aqui o nome do arquivo\")\n",
        "pygame.mixer.music.play()\n",
        "pygame.event.wait()\n",
        "\n"
      ],
      "metadata": {
        "id": "TmQw9Er4UxLt"
      },
      "execution_count": null,
      "outputs": []
    }
  ]
}